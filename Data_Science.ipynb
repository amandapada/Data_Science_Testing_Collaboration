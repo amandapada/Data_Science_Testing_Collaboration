{
 "cells": [
  {
   "cell_type": "code",
   "execution_count": 2,
   "id": "25cb270c-2f24-464d-b2c7-080857401385",
   "metadata": {},
   "outputs": [
    {
     "name": "stdout",
     "output_type": "stream",
     "text": [
      "Jay\n",
      "Dee\n",
      "Jerry\n",
      "David\n",
      "Tobi\n"
     ]
    }
   ],
   "source": [
    "my_tuple = (\"Jay\", \"Dee\", \"Jerry\", \"David\", \"Tobi\")\n",
    "for name in my_tuple:\n",
    "    print(name)"
   ]
  },
  {
   "cell_type": "code",
   "execution_count": null,
   "id": "0e3e052f-6dbf-4be0-81a4-76aaf5e92292",
   "metadata": {},
   "outputs": [],
   "source": []
  }
 ],
 "metadata": {
  "kernelspec": {
   "display_name": "Python 3 (ipykernel)",
   "language": "python",
   "name": "python3"
  },
  "language_info": {
   "codemirror_mode": {
    "name": "ipython",
    "version": 3
   },
   "file_extension": ".py",
   "mimetype": "text/x-python",
   "name": "python",
   "nbconvert_exporter": "python",
   "pygments_lexer": "ipython3",
   "version": "3.13.5"
  }
 },
 "nbformat": 4,
 "nbformat_minor": 5
}
