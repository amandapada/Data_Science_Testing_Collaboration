{
 "cells": [
  {
   "cell_type": "code",
   "execution_count": 1,
   "id": "7b667260-8c0d-4cee-b415-1fc8def3aa0a",
   "metadata": {},
   "outputs": [
    {
     "name": "stdout",
     "output_type": "stream",
     "text": [
      "Jay\n",
      "Dee\n",
      "Jerry\n",
      "David\n",
      "Tobi\n"
     ]
    }
   ],
   "source": [
    "my_list = [\"Jay\", \"Dee\", \"Jerry\", \"David\", \"Tobi\"]\n",
    "for name in my_list:\n",
    "    print(name)"
   ]
  },
  {
   "cell_type": "code",
   "execution_count": null,
   "id": "65817cca-929b-41c3-ba6b-0ddc89c32af0",
   "metadata": {},
   "outputs": [],
   "source": []
  }
 ],
 "metadata": {
  "kernelspec": {
   "display_name": "Python 3 (ipykernel)",
   "language": "python",
   "name": "python3"
  },
  "language_info": {
   "codemirror_mode": {
    "name": "ipython",
    "version": 3
   },
   "file_extension": ".py",
   "mimetype": "text/x-python",
   "name": "python",
   "nbconvert_exporter": "python",
   "pygments_lexer": "ipython3",
   "version": "3.13.5"
  }
 },
 "nbformat": 4,
 "nbformat_minor": 5
}
